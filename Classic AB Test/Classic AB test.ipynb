{
 "cells": [
  {
   "cell_type": "code",
   "execution_count": 2,
   "id": "9c479052-876a-4bc1-9fe7-1b21a9bd5bc4",
   "metadata": {},
   "outputs": [],
   "source": [
    "# Objective\n",
    "# Determine which price point (£19.99, £24.99, or £29.99) performs best in terms of conversion rate."
   ]
  },
  {
   "cell_type": "code",
   "execution_count": 1,
   "id": "76a18518-c5f7-4728-9270-108a955f9e36",
   "metadata": {},
   "outputs": [],
   "source": [
    "import pandas as pd\n",
    "import matplotlib.pyplot as plt\n",
    "from statsmodels.stats.proportion import proportions_ztest"
   ]
  },
  {
   "cell_type": "code",
   "execution_count": 2,
   "id": "9d430ead-a158-4f04-b98c-c1919a036208",
   "metadata": {},
   "outputs": [],
   "source": [
    "df = pd.read_csv(r\"D:\\JOB\\1 Pricing analyst\\AB testing\\Projects\\1 classic AB Test - split test\\ab_split_test.csv\")"
   ]
  },
  {
   "cell_type": "code",
   "execution_count": 3,
   "id": "0c979ad8-49f2-4469-9590-992347445df8",
   "metadata": {},
   "outputs": [
    {
     "data": {
      "text/html": [
       "<div>\n",
       "<style scoped>\n",
       "    .dataframe tbody tr th:only-of-type {\n",
       "        vertical-align: middle;\n",
       "    }\n",
       "\n",
       "    .dataframe tbody tr th {\n",
       "        vertical-align: top;\n",
       "    }\n",
       "\n",
       "    .dataframe thead th {\n",
       "        text-align: right;\n",
       "    }\n",
       "</style>\n",
       "<table border=\"1\" class=\"dataframe\">\n",
       "  <thead>\n",
       "    <tr style=\"text-align: right;\">\n",
       "      <th></th>\n",
       "      <th>user_id</th>\n",
       "      <th>group</th>\n",
       "      <th>price_shown</th>\n",
       "      <th>conversion</th>\n",
       "    </tr>\n",
       "  </thead>\n",
       "  <tbody>\n",
       "    <tr>\n",
       "      <th>0</th>\n",
       "      <td>1</td>\n",
       "      <td>A</td>\n",
       "      <td>19.99</td>\n",
       "      <td>1</td>\n",
       "    </tr>\n",
       "    <tr>\n",
       "      <th>1</th>\n",
       "      <td>2</td>\n",
       "      <td>B</td>\n",
       "      <td>19.99</td>\n",
       "      <td>1</td>\n",
       "    </tr>\n",
       "    <tr>\n",
       "      <th>2</th>\n",
       "      <td>3</td>\n",
       "      <td>A</td>\n",
       "      <td>24.99</td>\n",
       "      <td>1</td>\n",
       "    </tr>\n",
       "    <tr>\n",
       "      <th>3</th>\n",
       "      <td>4</td>\n",
       "      <td>A</td>\n",
       "      <td>19.99</td>\n",
       "      <td>1</td>\n",
       "    </tr>\n",
       "    <tr>\n",
       "      <th>4</th>\n",
       "      <td>5</td>\n",
       "      <td>A</td>\n",
       "      <td>29.99</td>\n",
       "      <td>1</td>\n",
       "    </tr>\n",
       "    <tr>\n",
       "      <th>...</th>\n",
       "      <td>...</td>\n",
       "      <td>...</td>\n",
       "      <td>...</td>\n",
       "      <td>...</td>\n",
       "    </tr>\n",
       "    <tr>\n",
       "      <th>9995</th>\n",
       "      <td>9996</td>\n",
       "      <td>B</td>\n",
       "      <td>24.99</td>\n",
       "      <td>1</td>\n",
       "    </tr>\n",
       "    <tr>\n",
       "      <th>9996</th>\n",
       "      <td>9997</td>\n",
       "      <td>A</td>\n",
       "      <td>24.99</td>\n",
       "      <td>0</td>\n",
       "    </tr>\n",
       "    <tr>\n",
       "      <th>9997</th>\n",
       "      <td>9998</td>\n",
       "      <td>B</td>\n",
       "      <td>14.99</td>\n",
       "      <td>1</td>\n",
       "    </tr>\n",
       "    <tr>\n",
       "      <th>9998</th>\n",
       "      <td>9999</td>\n",
       "      <td>B</td>\n",
       "      <td>14.99</td>\n",
       "      <td>1</td>\n",
       "    </tr>\n",
       "    <tr>\n",
       "      <th>9999</th>\n",
       "      <td>10000</td>\n",
       "      <td>A</td>\n",
       "      <td>14.99</td>\n",
       "      <td>0</td>\n",
       "    </tr>\n",
       "  </tbody>\n",
       "</table>\n",
       "<p>10000 rows × 4 columns</p>\n",
       "</div>"
      ],
      "text/plain": [
       "      user_id group  price_shown  conversion\n",
       "0           1     A        19.99           1\n",
       "1           2     B        19.99           1\n",
       "2           3     A        24.99           1\n",
       "3           4     A        19.99           1\n",
       "4           5     A        29.99           1\n",
       "...       ...   ...          ...         ...\n",
       "9995     9996     B        24.99           1\n",
       "9996     9997     A        24.99           0\n",
       "9997     9998     B        14.99           1\n",
       "9998     9999     B        14.99           1\n",
       "9999    10000     A        14.99           0\n",
       "\n",
       "[10000 rows x 4 columns]"
      ]
     },
     "execution_count": 3,
     "metadata": {},
     "output_type": "execute_result"
    }
   ],
   "source": [
    "df"
   ]
  },
  {
   "cell_type": "code",
   "execution_count": 4,
   "id": "4c0236b5-895a-4e77-b383-9f79b306f159",
   "metadata": {},
   "outputs": [
    {
     "name": "stdout",
     "output_type": "stream",
     "text": [
      "<class 'pandas.core.frame.DataFrame'>\n",
      "RangeIndex: 10000 entries, 0 to 9999\n",
      "Data columns (total 4 columns):\n",
      " #   Column       Non-Null Count  Dtype  \n",
      "---  ------       --------------  -----  \n",
      " 0   user_id      10000 non-null  int64  \n",
      " 1   group        10000 non-null  object \n",
      " 2   price_shown  10000 non-null  float64\n",
      " 3   conversion   10000 non-null  int64  \n",
      "dtypes: float64(1), int64(2), object(1)\n",
      "memory usage: 312.6+ KB\n"
     ]
    }
   ],
   "source": [
    "# Basic data summary\n",
    "df.info()\n"
   ]
  },
  {
   "cell_type": "code",
   "execution_count": 5,
   "id": "59e2c796-0ede-484e-a73c-d9eb469fbd8a",
   "metadata": {},
   "outputs": [
    {
     "data": {
      "text/html": [
       "<div>\n",
       "<style scoped>\n",
       "    .dataframe tbody tr th:only-of-type {\n",
       "        vertical-align: middle;\n",
       "    }\n",
       "\n",
       "    .dataframe tbody tr th {\n",
       "        vertical-align: top;\n",
       "    }\n",
       "\n",
       "    .dataframe thead th {\n",
       "        text-align: right;\n",
       "    }\n",
       "</style>\n",
       "<table border=\"1\" class=\"dataframe\">\n",
       "  <thead>\n",
       "    <tr style=\"text-align: right;\">\n",
       "      <th></th>\n",
       "      <th>user_id</th>\n",
       "      <th>price_shown</th>\n",
       "      <th>conversion</th>\n",
       "    </tr>\n",
       "  </thead>\n",
       "  <tbody>\n",
       "    <tr>\n",
       "      <th>count</th>\n",
       "      <td>10000.00000</td>\n",
       "      <td>10000.00000</td>\n",
       "      <td>10000.000000</td>\n",
       "    </tr>\n",
       "    <tr>\n",
       "      <th>mean</th>\n",
       "      <td>5000.50000</td>\n",
       "      <td>20.00200</td>\n",
       "      <td>0.494600</td>\n",
       "    </tr>\n",
       "    <tr>\n",
       "      <th>std</th>\n",
       "      <td>2886.89568</td>\n",
       "      <td>7.10668</td>\n",
       "      <td>0.499996</td>\n",
       "    </tr>\n",
       "    <tr>\n",
       "      <th>min</th>\n",
       "      <td>1.00000</td>\n",
       "      <td>9.99000</td>\n",
       "      <td>0.000000</td>\n",
       "    </tr>\n",
       "    <tr>\n",
       "      <th>25%</th>\n",
       "      <td>2500.75000</td>\n",
       "      <td>14.99000</td>\n",
       "      <td>0.000000</td>\n",
       "    </tr>\n",
       "    <tr>\n",
       "      <th>50%</th>\n",
       "      <td>5000.50000</td>\n",
       "      <td>19.99000</td>\n",
       "      <td>0.000000</td>\n",
       "    </tr>\n",
       "    <tr>\n",
       "      <th>75%</th>\n",
       "      <td>7500.25000</td>\n",
       "      <td>24.99000</td>\n",
       "      <td>1.000000</td>\n",
       "    </tr>\n",
       "    <tr>\n",
       "      <th>max</th>\n",
       "      <td>10000.00000</td>\n",
       "      <td>29.99000</td>\n",
       "      <td>1.000000</td>\n",
       "    </tr>\n",
       "  </tbody>\n",
       "</table>\n",
       "</div>"
      ],
      "text/plain": [
       "           user_id  price_shown    conversion\n",
       "count  10000.00000  10000.00000  10000.000000\n",
       "mean    5000.50000     20.00200      0.494600\n",
       "std     2886.89568      7.10668      0.499996\n",
       "min        1.00000      9.99000      0.000000\n",
       "25%     2500.75000     14.99000      0.000000\n",
       "50%     5000.50000     19.99000      0.000000\n",
       "75%     7500.25000     24.99000      1.000000\n",
       "max    10000.00000     29.99000      1.000000"
      ]
     },
     "execution_count": 5,
     "metadata": {},
     "output_type": "execute_result"
    }
   ],
   "source": [
    "df.describe()"
   ]
  },
  {
   "cell_type": "code",
   "execution_count": 6,
   "id": "d4f59a9e-a8b9-4698-a24d-4700d7d92b0d",
   "metadata": {},
   "outputs": [
    {
     "data": {
      "text/html": [
       "<div>\n",
       "<style scoped>\n",
       "    .dataframe tbody tr th:only-of-type {\n",
       "        vertical-align: middle;\n",
       "    }\n",
       "\n",
       "    .dataframe tbody tr th {\n",
       "        vertical-align: top;\n",
       "    }\n",
       "\n",
       "    .dataframe thead th {\n",
       "        text-align: right;\n",
       "    }\n",
       "</style>\n",
       "<table border=\"1\" class=\"dataframe\">\n",
       "  <thead>\n",
       "    <tr style=\"text-align: right;\">\n",
       "      <th></th>\n",
       "      <th>price_shown</th>\n",
       "      <th>total_users</th>\n",
       "      <th>total_conversions</th>\n",
       "      <th>conversion_rate</th>\n",
       "    </tr>\n",
       "  </thead>\n",
       "  <tbody>\n",
       "    <tr>\n",
       "      <th>0</th>\n",
       "      <td>9.99</td>\n",
       "      <td>1998</td>\n",
       "      <td>1016</td>\n",
       "      <td>0.508509</td>\n",
       "    </tr>\n",
       "    <tr>\n",
       "      <th>1</th>\n",
       "      <td>14.99</td>\n",
       "      <td>2056</td>\n",
       "      <td>1032</td>\n",
       "      <td>0.501946</td>\n",
       "    </tr>\n",
       "    <tr>\n",
       "      <th>2</th>\n",
       "      <td>19.99</td>\n",
       "      <td>1908</td>\n",
       "      <td>928</td>\n",
       "      <td>0.486373</td>\n",
       "    </tr>\n",
       "    <tr>\n",
       "      <th>3</th>\n",
       "      <td>24.99</td>\n",
       "      <td>2000</td>\n",
       "      <td>963</td>\n",
       "      <td>0.481500</td>\n",
       "    </tr>\n",
       "    <tr>\n",
       "      <th>4</th>\n",
       "      <td>29.99</td>\n",
       "      <td>2038</td>\n",
       "      <td>1007</td>\n",
       "      <td>0.494112</td>\n",
       "    </tr>\n",
       "  </tbody>\n",
       "</table>\n",
       "</div>"
      ],
      "text/plain": [
       "   price_shown  total_users  total_conversions  conversion_rate\n",
       "0         9.99         1998               1016         0.508509\n",
       "1        14.99         2056               1032         0.501946\n",
       "2        19.99         1908                928         0.486373\n",
       "3        24.99         2000                963         0.481500\n",
       "4        29.99         2038               1007         0.494112"
      ]
     },
     "execution_count": 6,
     "metadata": {},
     "output_type": "execute_result"
    }
   ],
   "source": [
    "# group conversion by price\n",
    "conversion_by_price = df.groupby('price_shown')['conversion'].agg(['count', 'sum', 'mean']).reset_index()\n",
    "conversion_by_price.columns = ['price_shown', 'total_users', 'total_conversions', 'conversion_rate']\n",
    "conversion_by_price\n"
   ]
  },
  {
   "cell_type": "code",
   "execution_count": 7,
   "id": "4b1e5fc8-4c59-4d19-b6f5-28d70a6ea970",
   "metadata": {},
   "outputs": [
    {
     "data": {
      "image/png": "[encoded data removed]",
      "text/plain": [
       "<Figure size 600x400 with 1 Axes>"
      ]
     },
     "metadata": {},
     "output_type": "display_data"
    }
   ],
   "source": [
    "# Visualize conversion rate\n",
    "import matplotlib.pyplot as plt\n",
    "\n",
    "plt.figure(figsize=(6,4))\n",
    "plt.bar(conversion_by_price['price_shown'].astype(str), conversion_by_price['conversion_rate'], width=0.4)\n",
    "plt.xlabel('Price Shown (£)')\n",
    "plt.ylabel('Conversion Rate')\n",
    "plt.title('Conversion Rate by Price Point')\n",
    "plt.show()\n"
   ]
  },
  {
   "cell_type": "code",
   "execution_count": 8,
   "id": "ae7f995f-f409-4983-9cad-b35f1b6c8c81",
   "metadata": {},
   "outputs": [
    {
     "data": {
      "text/plain": [
       "0.3604178586906758"
      ]
     },
     "execution_count": 8,
     "metadata": {},
     "output_type": "execute_result"
    }
   ],
   "source": [
    "# Statistical Significance Test (Chi-Square or Proportions Z-test)\n",
    "# Compare £19.99 vs £29.99\n",
    "group1 = df[df['price_shown'] == 9.99]\n",
    "group2 = df[df['price_shown'] == 29.99]\n",
    "\n",
    "count = [group1['conversion'].sum(), group2['conversion'].sum()]\n",
    "nobs = [group1.shape[0], group2.shape[0]]\n",
    "\n",
    "stat, pval = proportions_ztest(count, nobs)\n",
    "pval\n"
   ]
  },
  {
   "cell_type": "code",
   "execution_count": 9,
   "id": "3b2219a1-8231-4987-bc4d-38e01ed3c610",
   "metadata": {},
   "outputs": [],
   "source": [
    "# if the p value is less than 0.05 than the difference is statistically significant. I mean the diference in conversion rate\n",
    "# higher p-value means null hypothesis of not significant conversion rate stands \n",
    "# Test out all difference price vs price if there is any significant varaition ( pvalue < 0.05) "
   ]
  },
  {
   "cell_type": "code",
   "execution_count": 10,
   "id": "9ba6d5f6-2a7f-44a6-a46f-1b4f84c87f49",
   "metadata": {},
   "outputs": [
    {
     "data": {
      "text/html": [
       "<div>\n",
       "<style scoped>\n",
       "    .dataframe tbody tr th:only-of-type {\n",
       "        vertical-align: middle;\n",
       "    }\n",
       "\n",
       "    .dataframe tbody tr th {\n",
       "        vertical-align: top;\n",
       "    }\n",
       "\n",
       "    .dataframe thead th {\n",
       "        text-align: right;\n",
       "    }\n",
       "</style>\n",
       "<table border=\"1\" class=\"dataframe\">\n",
       "  <thead>\n",
       "    <tr style=\"text-align: right;\">\n",
       "      <th></th>\n",
       "      <th>price_shown</th>\n",
       "      <th>revenue_per_user</th>\n",
       "    </tr>\n",
       "  </thead>\n",
       "  <tbody>\n",
       "    <tr>\n",
       "      <th>0</th>\n",
       "      <td>9.99</td>\n",
       "      <td>5.080000</td>\n",
       "    </tr>\n",
       "    <tr>\n",
       "      <th>1</th>\n",
       "      <td>14.99</td>\n",
       "      <td>7.524163</td>\n",
       "    </tr>\n",
       "    <tr>\n",
       "      <th>2</th>\n",
       "      <td>19.99</td>\n",
       "      <td>9.722600</td>\n",
       "    </tr>\n",
       "    <tr>\n",
       "      <th>3</th>\n",
       "      <td>24.99</td>\n",
       "      <td>12.032685</td>\n",
       "    </tr>\n",
       "    <tr>\n",
       "      <th>4</th>\n",
       "      <td>29.99</td>\n",
       "      <td>14.818415</td>\n",
       "    </tr>\n",
       "  </tbody>\n",
       "</table>\n",
       "</div>"
      ],
      "text/plain": [
       "   price_shown  revenue_per_user\n",
       "0         9.99          5.080000\n",
       "1        14.99          7.524163\n",
       "2        19.99          9.722600\n",
       "3        24.99         12.032685\n",
       "4        29.99         14.818415"
      ]
     },
     "execution_count": 10,
     "metadata": {},
     "output_type": "execute_result"
    }
   ],
   "source": [
    "# Calculate highest revenue\n",
    "df['revenue'] = df['conversion'] * df['price_shown']\n",
    "revenue_by_price = df.groupby('price_shown')['revenue'].mean().reset_index()\n",
    "revenue_by_price.columns = ['price_shown', 'revenue_per_user']\n",
    "revenue_by_price\n"
   ]
  },
  {
   "cell_type": "code",
   "execution_count": 11,
   "id": "ef083d86-b96b-4cdb-915c-4106d7f28179",
   "metadata": {},
   "outputs": [],
   "source": [
    "# Best-performing price in terms of conversion: £X\n",
    "# Best-performing price in terms of revenue/user: £Y\n",
    "# Recommendation: Choose £Z based on business goal (growth vs. margin)"
   ]
  },
  {
   "cell_type": "code",
   "execution_count": null,
   "id": "216a4b82-b0b2-4a08-9d76-ffb5989e26ec",
   "metadata": {},
   "outputs": [],
   "source": []
  }
 ],
 "metadata": {
  "kernelspec": {
   "display_name": "Python 3 (ipykernel)",
   "language": "python",
   "name": "python3"
  },
  "language_info": {
   "codemirror_mode": {
    "name": "ipython",
    "version": 3
   },
   "file_extension": ".py",
   "mimetype": "text/x-python",
   "name": "python",
   "nbconvert_exporter": "python",
   "pygments_lexer": "ipython3",
   "version": "3.9.7"
  }
 },
 "nbformat": 4,
 "nbformat_minor": 5
}
