{
 "cells": [
  {
   "cell_type": "code",
   "execution_count": 20,
   "id": "d4c96363-d590-45f9-a723-dc75eb572ce0",
   "metadata": {},
   "outputs": [],
   "source": [
    "# 1. Import libraries\n",
    "import pandas as pd\n",
    "from mlxtend.preprocessing import TransactionEncoder\n",
    "from mlxtend.frequent_patterns import apriori, fpgrowth, association_rules\n",
    "import matplotlib.pyplot as plt"
   ]
  },
  {
   "cell_type": "code",
   "execution_count": 21,
   "id": "1ca72b65-4cc2-4e39-b2dd-c8dff92a6ca1",
   "metadata": {},
   "outputs": [],
   "source": [
    "# 2. Load dataset (make sure the CSV has a 'products' column with lists of items)\n",
    "df = pd.read_csv(r\"D:\\JOB\\1 Pricing analyst\\2 Revenue and profit optimization model\\3  Bundle Pricing Optimization\\market_basket_analysis_dataset.csv\")  # Replace with your actual file path"
   ]
  },
  {
   "cell_type": "code",
   "execution_count": 22,
   "id": "ff477c7b-efc6-4a9e-9040-9df06077c050",
   "metadata": {},
   "outputs": [
    {
     "data": {
      "text/html": [
       "<div>\n",
       "<style scoped>\n",
       "    .dataframe tbody tr th:only-of-type {\n",
       "        vertical-align: middle;\n",
       "    }\n",
       "\n",
       "    .dataframe tbody tr th {\n",
       "        vertical-align: top;\n",
       "    }\n",
       "\n",
       "    .dataframe thead th {\n",
       "        text-align: right;\n",
       "    }\n",
       "</style>\n",
       "<table border=\"1\" class=\"dataframe\">\n",
       "  <thead>\n",
       "    <tr style=\"text-align: right;\">\n",
       "      <th></th>\n",
       "      <th>transaction_id</th>\n",
       "      <th>products</th>\n",
       "      <th>total_price</th>\n",
       "      <th>discount</th>\n",
       "      <th>effective_price</th>\n",
       "    </tr>\n",
       "  </thead>\n",
       "  <tbody>\n",
       "    <tr>\n",
       "      <th>0</th>\n",
       "      <td>1</td>\n",
       "      <td>['Backpack', 'Mouse', 'Smartphone', 'Charger']</td>\n",
       "      <td>815</td>\n",
       "      <td>0</td>\n",
       "      <td>815.00</td>\n",
       "    </tr>\n",
       "    <tr>\n",
       "      <th>1</th>\n",
       "      <td>2</td>\n",
       "      <td>['USB Drive', 'Laptop']</td>\n",
       "      <td>1020</td>\n",
       "      <td>20</td>\n",
       "      <td>816.00</td>\n",
       "    </tr>\n",
       "    <tr>\n",
       "      <th>2</th>\n",
       "      <td>3</td>\n",
       "      <td>['Monitor', 'Backpack', 'Headphones', 'Smartph...</td>\n",
       "      <td>1140</td>\n",
       "      <td>10</td>\n",
       "      <td>1026.00</td>\n",
       "    </tr>\n",
       "    <tr>\n",
       "      <th>3</th>\n",
       "      <td>4</td>\n",
       "      <td>['Mouse', 'Laptop']</td>\n",
       "      <td>1030</td>\n",
       "      <td>5</td>\n",
       "      <td>978.50</td>\n",
       "    </tr>\n",
       "    <tr>\n",
       "      <th>4</th>\n",
       "      <td>5</td>\n",
       "      <td>['Mouse', 'Tablet', 'Backpack']</td>\n",
       "      <td>490</td>\n",
       "      <td>0</td>\n",
       "      <td>490.00</td>\n",
       "    </tr>\n",
       "    <tr>\n",
       "      <th>...</th>\n",
       "      <td>...</td>\n",
       "      <td>...</td>\n",
       "      <td>...</td>\n",
       "      <td>...</td>\n",
       "      <td>...</td>\n",
       "    </tr>\n",
       "    <tr>\n",
       "      <th>9995</th>\n",
       "      <td>9996</td>\n",
       "      <td>['USB Drive', 'Smartphone', 'Mouse']</td>\n",
       "      <td>750</td>\n",
       "      <td>15</td>\n",
       "      <td>637.50</td>\n",
       "    </tr>\n",
       "    <tr>\n",
       "      <th>9996</th>\n",
       "      <td>9997</td>\n",
       "      <td>['Monitor', 'Laptop', 'Charger', 'Backpack']</td>\n",
       "      <td>1385</td>\n",
       "      <td>15</td>\n",
       "      <td>1177.25</td>\n",
       "    </tr>\n",
       "    <tr>\n",
       "      <th>9997</th>\n",
       "      <td>9998</td>\n",
       "      <td>['Monitor', 'Smartphone', 'Charger', 'Keyboard...</td>\n",
       "      <td>1475</td>\n",
       "      <td>15</td>\n",
       "      <td>1253.75</td>\n",
       "    </tr>\n",
       "    <tr>\n",
       "      <th>9998</th>\n",
       "      <td>9999</td>\n",
       "      <td>['Keyboard', 'USB Drive']</td>\n",
       "      <td>70</td>\n",
       "      <td>0</td>\n",
       "      <td>70.00</td>\n",
       "    </tr>\n",
       "    <tr>\n",
       "      <th>9999</th>\n",
       "      <td>10000</td>\n",
       "      <td>['Mouse', 'Backpack']</td>\n",
       "      <td>90</td>\n",
       "      <td>0</td>\n",
       "      <td>90.00</td>\n",
       "    </tr>\n",
       "  </tbody>\n",
       "</table>\n",
       "<p>10000 rows × 5 columns</p>\n",
       "</div>"
      ],
      "text/plain": [
       "      transaction_id                                           products  \\\n",
       "0                  1     ['Backpack', 'Mouse', 'Smartphone', 'Charger']   \n",
       "1                  2                            ['USB Drive', 'Laptop']   \n",
       "2                  3  ['Monitor', 'Backpack', 'Headphones', 'Smartph...   \n",
       "3                  4                                ['Mouse', 'Laptop']   \n",
       "4                  5                    ['Mouse', 'Tablet', 'Backpack']   \n",
       "...              ...                                                ...   \n",
       "9995            9996               ['USB Drive', 'Smartphone', 'Mouse']   \n",
       "9996            9997       ['Monitor', 'Laptop', 'Charger', 'Backpack']   \n",
       "9997            9998  ['Monitor', 'Smartphone', 'Charger', 'Keyboard...   \n",
       "9998            9999                          ['Keyboard', 'USB Drive']   \n",
       "9999           10000                              ['Mouse', 'Backpack']   \n",
       "\n",
       "      total_price  discount  effective_price  \n",
       "0             815         0           815.00  \n",
       "1            1020        20           816.00  \n",
       "2            1140        10          1026.00  \n",
       "3            1030         5           978.50  \n",
       "4             490         0           490.00  \n",
       "...           ...       ...              ...  \n",
       "9995          750        15           637.50  \n",
       "9996         1385        15          1177.25  \n",
       "9997         1475        15          1253.75  \n",
       "9998           70         0            70.00  \n",
       "9999           90         0            90.00  \n",
       "\n",
       "[10000 rows x 5 columns]"
      ]
     },
     "execution_count": 22,
     "metadata": {},
     "output_type": "execute_result"
    }
   ],
   "source": [
    "df"
   ]
  },
  {
   "cell_type": "code",
   "execution_count": 26,
   "id": "640a028a-d4a1-497c-8790-b02d85998638",
   "metadata": {},
   "outputs": [],
   "source": [
    "# 3. Convert string list to actual Python list (if needed)\n",
    "import ast\n",
    "\n",
    "df[\"products\"] = df[\"products\"].apply(lambda x: ast.literal_eval(x) if isinstance(x, str) else x)\n"
   ]
  },
  {
   "cell_type": "code",
   "execution_count": 27,
   "id": "5e1ffb14-424c-4892-8b37-75f019f87ac9",
   "metadata": {},
   "outputs": [],
   "source": [
    "# 4. Transform to one-hot encoded format\n",
    "te = TransactionEncoder()\n",
    "te_array = te.fit(df[\"products\"]).transform(df[\"products\"])\n",
    "basket_df = pd.DataFrame(te_array, columns=te.columns_)"
   ]
  },
  {
   "cell_type": "code",
   "execution_count": 28,
   "id": "aebea16d-2abf-4443-868f-651e80d7d922",
   "metadata": {},
   "outputs": [
    {
     "data": {
      "image/png": "[encoded data removed]",
      "text/plain": [
       "<Figure size 640x480 with 1 Axes>"
      ]
     },
     "metadata": {},
     "output_type": "display_data"
    }
   ],
   "source": [
    "# 5. Run Apriori\n",
    "item_counts = basket_df.sum().sort_values(ascending=False)\n",
    "item_counts.head(10).plot(kind='bar', title=\"Top 10 Items\")\n",
    "plt.tight_layout()\n",
    "plt.show()"
   ]
  },
  {
   "cell_type": "code",
   "execution_count": 29,
   "id": "88e08f11-f760-4327-9a1b-266a257c2318",
   "metadata": {},
   "outputs": [],
   "source": [
    "frequent_apriori = apriori(basket_df, min_support=0.01, use_colnames=True)\n",
    "rules_apriori = association_rules(frequent_apriori, metric=\"confidence\", min_threshold=0.3)"
   ]
  },
  {
   "cell_type": "code",
   "execution_count": 30,
   "id": "68ae9adf-0167-4bb7-a2dd-75692f8940cc",
   "metadata": {},
   "outputs": [],
   "source": [
    "frequent_fpgrowth = fpgrowth(basket_df, min_support=0.01, use_colnames=True)\n",
    "rules_fpgrowth = association_rules(frequent_fpgrowth, metric=\"confidence\", min_threshold=0.3)"
   ]
  },
  {
   "cell_type": "code",
   "execution_count": 31,
   "id": "e6d55daa-e595-4bb3-8951-6565d93a6647",
   "metadata": {},
   "outputs": [
    {
     "name": "stdout",
     "output_type": "stream",
     "text": [
      "Apriori Rules:\n",
      "            antecedents   consequents  support  confidence      lift\n",
      "0            (Backpack)     (Charger)   0.1124    0.317514  0.902285\n",
      "1             (Charger)    (Backpack)   0.1124    0.319409  0.902285\n",
      "2            (Backpack)  (Headphones)   0.1095    0.309322  0.881008\n",
      "3          (Headphones)    (Backpack)   0.1095    0.311877  0.881008\n",
      "4            (Backpack)    (Keyboard)   0.1155    0.326271  0.919592\n",
      "..                  ...           ...      ...         ...       ...\n",
      "112   (Keyboard, Mouse)      (Laptop)   0.0343    0.309846  0.880996\n",
      "113  (Keyboard, Laptop)       (Mouse)   0.0343    0.304078  0.872033\n",
      "114  (Keyboard, Laptop)      (Tablet)   0.0345    0.305851  0.849115\n",
      "115    (Tablet, Laptop)    (Keyboard)   0.0345    0.305851  0.862038\n",
      "116    (Monitor, Mouse)      (Laptop)   0.0333    0.301904  0.858413\n",
      "\n",
      "[117 rows x 5 columns]\n",
      "\n",
      "FP-Growth Rules:\n",
      "      antecedents   consequents  support  confidence      lift\n",
      "0      (Backpack)  (Smartphone)   0.1177    0.332486  0.921269\n",
      "1    (Smartphone)    (Backpack)   0.1177    0.326129  0.921269\n",
      "2      (Backpack)      (Tablet)   0.1141    0.322316  0.894826\n",
      "3        (Tablet)    (Backpack)   0.1141    0.316768  0.894826\n",
      "4      (Backpack)    (Keyboard)   0.1155    0.326271  0.919592\n",
      "..            ...           ...      ...         ...       ...\n",
      "112      (Tablet)  (Smartphone)   0.1163    0.322876  0.894642\n",
      "113    (Keyboard)      (Tablet)   0.1183    0.333427  0.925673\n",
      "114      (Tablet)    (Keyboard)   0.1183    0.328429  0.925673\n",
      "115    (Keyboard)  (Smartphone)   0.1158    0.326381  0.904353\n",
      "116  (Smartphone)    (Keyboard)   0.1158    0.320865  0.904353\n",
      "\n",
      "[117 rows x 5 columns]\n"
     ]
    }
   ],
   "source": [
    "# 7. Print results\n",
    "print(\"Apriori Rules:\")\n",
    "print(rules_apriori[['antecedents', 'consequents', 'support', 'confidence', 'lift']])\n",
    "\n",
    "print(\"\\nFP-Growth Rules:\")\n",
    "print(rules_fpgrowth[['antecedents', 'consequents', 'support', 'confidence', 'lift']])"
   ]
  },
  {
   "cell_type": "code",
   "execution_count": 32,
   "id": "122b2ddb-0437-4937-bcea-fa3d4b6e6f54",
   "metadata": {},
   "outputs": [],
   "source": [
    "# If I'M NOT RECEIVING ANY SUGGESTION MEANS NO PRODUCT MET THE CRITERIA. "
   ]
  },
  {
   "cell_type": "code",
   "execution_count": null,
   "id": "0282165c-4d12-47c2-b7c2-a6c6dded3d90",
   "metadata": {},
   "outputs": [],
   "source": []
  }
 ],
 "metadata": {
  "kernelspec": {
   "display_name": "Python 3 (ipykernel)",
   "language": "python",
   "name": "python3"
  },
  "language_info": {
   "codemirror_mode": {
    "name": "ipython",
    "version": 3
   },
   "file_extension": ".py",
   "mimetype": "text/x-python",
   "name": "python",
   "nbconvert_exporter": "python",
   "pygments_lexer": "ipython3",
   "version": "3.9.7"
  }
 },
 "nbformat": 4,
 "nbformat_minor": 5
}
