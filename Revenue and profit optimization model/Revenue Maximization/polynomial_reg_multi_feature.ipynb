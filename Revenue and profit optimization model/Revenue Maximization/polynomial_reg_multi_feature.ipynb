{
 "cells": [
  {
   "cell_type": "code",
   "execution_count": 41,
   "id": "42118a0e-430f-4ffb-9b8c-671abefa74eb",
   "metadata": {},
   "outputs": [],
   "source": [
    "# Multi-feature Revenue & Profit Optimization\n",
    "\n",
    "# This model uses 3 features To model demand, and then simulate revenue and profit across a full price range using a polynomial multi-feature regression."
   ]
  },
  {
   "cell_type": "code",
   "execution_count": 1,
   "id": "c80629f1-6467-4066-8ae6-a5a022fd3115",
   "metadata": {},
   "outputs": [],
   "source": [
    "# 1. Import libraries\n",
    "import pandas as pd\n",
    "import numpy as np\n",
    "from sklearn.linear_model import LinearRegression\n",
    "from sklearn.preprocessing import PolynomialFeatures\n",
    "import matplotlib.pyplot as plt"
   ]
  },
  {
   "cell_type": "code",
   "execution_count": 2,
   "id": "5830258c-c9ca-4aef-b8a6-302f327915f1",
   "metadata": {},
   "outputs": [],
   "source": [
    "# 2. Load dataset\n",
    "df = pd.read_csv(r\"D:\\JOB\\1 Pricing analyst\\2 Revenue and profit optimization model\\1 Revenue Maximization & Cost-Based Pricing\\Linear_programming_dataset.csv\")"
   ]
  },
  {
   "cell_type": "code",
   "execution_count": 6,
   "id": "5bdd8862-e685-4af8-8be3-9e18b2ab2d73",
   "metadata": {},
   "outputs": [
    {
     "data": {
      "text/html": [
       "<div>\n",
       "<style scoped>\n",
       "    .dataframe tbody tr th:only-of-type {\n",
       "        vertical-align: middle;\n",
       "    }\n",
       "\n",
       "    .dataframe tbody tr th {\n",
       "        vertical-align: top;\n",
       "    }\n",
       "\n",
       "    .dataframe thead th {\n",
       "        text-align: right;\n",
       "    }\n",
       "</style>\n",
       "<table border=\"1\" class=\"dataframe\">\n",
       "  <thead>\n",
       "    <tr style=\"text-align: right;\">\n",
       "      <th></th>\n",
       "      <th>product_id</th>\n",
       "      <th>price</th>\n",
       "      <th>demand</th>\n",
       "      <th>cost_per_unit</th>\n",
       "      <th>production_capacity</th>\n",
       "      <th>revenue</th>\n",
       "      <th>profit</th>\n",
       "    </tr>\n",
       "  </thead>\n",
       "  <tbody>\n",
       "    <tr>\n",
       "      <th>0</th>\n",
       "      <td>1</td>\n",
       "      <td>193.524658</td>\n",
       "      <td>18.397192</td>\n",
       "      <td>83.131458</td>\n",
       "      <td>144</td>\n",
       "      <td>3560.310362</td>\n",
       "      <td>2030.924938</td>\n",
       "    </tr>\n",
       "    <tr>\n",
       "      <th>1</th>\n",
       "      <td>2</td>\n",
       "      <td>475.850010</td>\n",
       "      <td>10.000000</td>\n",
       "      <td>43.653409</td>\n",
       "      <td>762</td>\n",
       "      <td>4758.500101</td>\n",
       "      <td>4321.966009</td>\n",
       "    </tr>\n",
       "    <tr>\n",
       "      <th>2</th>\n",
       "      <td>3</td>\n",
       "      <td>368.677031</td>\n",
       "      <td>15.506100</td>\n",
       "      <td>91.946021</td>\n",
       "      <td>216</td>\n",
       "      <td>5716.743008</td>\n",
       "      <td>4291.018784</td>\n",
       "    </tr>\n",
       "    <tr>\n",
       "      <th>3</th>\n",
       "      <td>4</td>\n",
       "      <td>303.342657</td>\n",
       "      <td>10.613643</td>\n",
       "      <td>82.237362</td>\n",
       "      <td>221</td>\n",
       "      <td>3219.570730</td>\n",
       "      <td>2346.732714</td>\n",
       "    </tr>\n",
       "    <tr>\n",
       "      <th>4</th>\n",
       "      <td>5</td>\n",
       "      <td>86.449134</td>\n",
       "      <td>63.400651</td>\n",
       "      <td>193.124870</td>\n",
       "      <td>581</td>\n",
       "      <td>5480.931360</td>\n",
       "      <td>-6763.311120</td>\n",
       "    </tr>\n",
       "    <tr>\n",
       "      <th>...</th>\n",
       "      <td>...</td>\n",
       "      <td>...</td>\n",
       "      <td>...</td>\n",
       "      <td>...</td>\n",
       "      <td>...</td>\n",
       "      <td>...</td>\n",
       "      <td>...</td>\n",
       "    </tr>\n",
       "    <tr>\n",
       "      <th>9995</th>\n",
       "      <td>9996</td>\n",
       "      <td>430.251434</td>\n",
       "      <td>11.480490</td>\n",
       "      <td>168.159618</td>\n",
       "      <td>734</td>\n",
       "      <td>4939.497346</td>\n",
       "      <td>3008.942509</td>\n",
       "    </tr>\n",
       "    <tr>\n",
       "      <th>9996</th>\n",
       "      <td>9997</td>\n",
       "      <td>449.779329</td>\n",
       "      <td>15.078538</td>\n",
       "      <td>137.054489</td>\n",
       "      <td>653</td>\n",
       "      <td>6782.014546</td>\n",
       "      <td>4715.433279</td>\n",
       "    </tr>\n",
       "    <tr>\n",
       "      <th>9997</th>\n",
       "      <td>9998</td>\n",
       "      <td>473.886878</td>\n",
       "      <td>15.523632</td>\n",
       "      <td>290.544484</td>\n",
       "      <td>268</td>\n",
       "      <td>7356.445427</td>\n",
       "      <td>2846.139834</td>\n",
       "    </tr>\n",
       "    <tr>\n",
       "      <th>9998</th>\n",
       "      <td>9999</td>\n",
       "      <td>204.769116</td>\n",
       "      <td>20.931096</td>\n",
       "      <td>141.918700</td>\n",
       "      <td>519</td>\n",
       "      <td>4286.042110</td>\n",
       "      <td>1315.528113</td>\n",
       "    </tr>\n",
       "    <tr>\n",
       "      <th>9999</th>\n",
       "      <td>10000</td>\n",
       "      <td>116.398798</td>\n",
       "      <td>41.451594</td>\n",
       "      <td>194.190710</td>\n",
       "      <td>379</td>\n",
       "      <td>4824.915671</td>\n",
       "      <td>-3224.598728</td>\n",
       "    </tr>\n",
       "  </tbody>\n",
       "</table>\n",
       "<p>10000 rows × 7 columns</p>\n",
       "</div>"
      ],
      "text/plain": [
       "      product_id       price     demand  cost_per_unit  production_capacity  \\\n",
       "0              1  193.524658  18.397192      83.131458                  144   \n",
       "1              2  475.850010  10.000000      43.653409                  762   \n",
       "2              3  368.677031  15.506100      91.946021                  216   \n",
       "3              4  303.342657  10.613643      82.237362                  221   \n",
       "4              5   86.449134  63.400651     193.124870                  581   \n",
       "...          ...         ...        ...            ...                  ...   \n",
       "9995        9996  430.251434  11.480490     168.159618                  734   \n",
       "9996        9997  449.779329  15.078538     137.054489                  653   \n",
       "9997        9998  473.886878  15.523632     290.544484                  268   \n",
       "9998        9999  204.769116  20.931096     141.918700                  519   \n",
       "9999       10000  116.398798  41.451594     194.190710                  379   \n",
       "\n",
       "          revenue       profit  \n",
       "0     3560.310362  2030.924938  \n",
       "1     4758.500101  4321.966009  \n",
       "2     5716.743008  4291.018784  \n",
       "3     3219.570730  2346.732714  \n",
       "4     5480.931360 -6763.311120  \n",
       "...           ...          ...  \n",
       "9995  4939.497346  3008.942509  \n",
       "9996  6782.014546  4715.433279  \n",
       "9997  7356.445427  2846.139834  \n",
       "9998  4286.042110  1315.528113  \n",
       "9999  4824.915671 -3224.598728  \n",
       "\n",
       "[10000 rows x 7 columns]"
      ]
     },
     "execution_count": 6,
     "metadata": {},
     "output_type": "execute_result"
    }
   ],
   "source": [
    "df"
   ]
  },
  {
   "cell_type": "code",
   "execution_count": 3,
   "id": "d830f9ad-c50d-4eac-9172-ab1dc2193c32",
   "metadata": {},
   "outputs": [],
   "source": [
    "# 3. Define features and target\n",
    "features = ['price', 'cost_per_unit', 'production_capacity']\n",
    "X = df[features]\n",
    "y = df['demand']"
   ]
  },
  {
   "cell_type": "code",
   "execution_count": 4,
   "id": "a8895bf0-6eca-47f1-af80-c080237cad55",
   "metadata": {},
   "outputs": [],
   "source": [
    "# 4. Use Polynomial Features (degree=2) for non-linear modeling\n",
    "poly = PolynomialFeatures(degree=2, include_bias=False)\n",
    "X_poly = poly.fit_transform(X)"
   ]
  },
  {
   "cell_type": "code",
   "execution_count": 5,
   "id": "a9384924-0c96-4e79-a168-d3d5b618fcb6",
   "metadata": {},
   "outputs": [
    {
     "data": {
      "text/html": [
       "<style>#sk-container-id-1 {color: black;background-color: white;}#sk-container-id-1 pre{padding: 0;}#sk-container-id-1 div.sk-toggleable {background-color: white;}#sk-container-id-1 label.sk-toggleable__label {cursor: pointer;display: block;width: 100%;margin-bottom: 0;padding: 0.3em;box-sizing: border-box;text-align: center;}#sk-container-id-1 label.sk-toggleable__label-arrow:before {content: \"▸\";float: left;margin-right: 0.25em;color: #696969;}#sk-container-id-1 label.sk-toggleable__label-arrow:hover:before {color: black;}#sk-container-id-1 div.sk-estimator:hover label.sk-toggleable__label-arrow:before {color: black;}#sk-container-id-1 div.sk-toggleable__content {max-height: 0;max-width: 0;overflow: hidden;text-align: left;background-color: #f0f8ff;}#sk-container-id-1 div.sk-toggleable__content pre {margin: 0.2em;color: black;border-radius: 0.25em;background-color: #f0f8ff;}#sk-container-id-1 input.sk-toggleable__control:checked~div.sk-toggleable__content {max-height: 200px;max-width: 100%;overflow: auto;}#sk-container-id-1 input.sk-toggleable__control:checked~label.sk-toggleable__label-arrow:before {content: \"▾\";}#sk-container-id-1 div.sk-estimator input.sk-toggleable__control:checked~label.sk-toggleable__label {background-color: #d4ebff;}#sk-container-id-1 div.sk-label input.sk-toggleable__control:checked~label.sk-toggleable__label {background-color: #d4ebff;}#sk-container-id-1 input.sk-hidden--visually {border: 0;clip: rect(1px 1px 1px 1px);clip: rect(1px, 1px, 1px, 1px);height: 1px;margin: -1px;overflow: hidden;padding: 0;position: absolute;width: 1px;}#sk-container-id-1 div.sk-estimator {font-family: monospace;background-color: #f0f8ff;border: 1px dotted black;border-radius: 0.25em;box-sizing: border-box;margin-bottom: 0.5em;}#sk-container-id-1 div.sk-estimator:hover {background-color: #d4ebff;}#sk-container-id-1 div.sk-parallel-item::after {content: \"\";width: 100%;border-bottom: 1px solid gray;flex-grow: 1;}#sk-container-id-1 div.sk-label:hover label.sk-toggleable__label {background-color: #d4ebff;}#sk-container-id-1 div.sk-serial::before {content: \"\";position: absolute;border-left: 1px solid gray;box-sizing: border-box;top: 0;bottom: 0;left: 50%;z-index: 0;}#sk-container-id-1 div.sk-serial {display: flex;flex-direction: column;align-items: center;background-color: white;padding-right: 0.2em;padding-left: 0.2em;position: relative;}#sk-container-id-1 div.sk-item {position: relative;z-index: 1;}#sk-container-id-1 div.sk-parallel {display: flex;align-items: stretch;justify-content: center;background-color: white;position: relative;}#sk-container-id-1 div.sk-item::before, #sk-container-id-1 div.sk-parallel-item::before {content: \"\";position: absolute;border-left: 1px solid gray;box-sizing: border-box;top: 0;bottom: 0;left: 50%;z-index: -1;}#sk-container-id-1 div.sk-parallel-item {display: flex;flex-direction: column;z-index: 1;position: relative;background-color: white;}#sk-container-id-1 div.sk-parallel-item:first-child::after {align-self: flex-end;width: 50%;}#sk-container-id-1 div.sk-parallel-item:last-child::after {align-self: flex-start;width: 50%;}#sk-container-id-1 div.sk-parallel-item:only-child::after {width: 0;}#sk-container-id-1 div.sk-dashed-wrapped {border: 1px dashed gray;margin: 0 0.4em 0.5em 0.4em;box-sizing: border-box;padding-bottom: 0.4em;background-color: white;}#sk-container-id-1 div.sk-label label {font-family: monospace;font-weight: bold;display: inline-block;line-height: 1.2em;}#sk-container-id-1 div.sk-label-container {text-align: center;}#sk-container-id-1 div.sk-container {/* jupyter's `normalize.less` sets `[hidden] { display: none; }` but bootstrap.min.css set `[hidden] { display: none !important; }` so we also need the `!important` here to be able to override the default hidden behavior on the sphinx rendered scikit-learn.org. See: https://github.com/scikit-learn/scikit-learn/issues/21755 */display: inline-block !important;position: relative;}#sk-container-id-1 div.sk-text-repr-fallback {display: none;}</style><div id=\"sk-container-id-1\" class=\"sk-top-container\"><div class=\"sk-text-repr-fallback\"><pre>LinearRegression()</pre><b>In a Jupyter environment, please rerun this cell to show the HTML representation or trust the notebook. <br />On GitHub, the HTML representation is unable to render, please try loading this page with nbviewer.org.</b></div><div class=\"sk-container\" hidden><div class=\"sk-item\"><div class=\"sk-estimator sk-toggleable\"><input class=\"sk-toggleable__control sk-hidden--visually\" id=\"sk-estimator-id-1\" type=\"checkbox\" checked><label for=\"sk-estimator-id-1\" class=\"sk-toggleable__label sk-toggleable__label-arrow\">LinearRegression</label><div class=\"sk-toggleable__content\"><pre>LinearRegression()</pre></div></div></div></div></div>"
      ],
      "text/plain": [
       "LinearRegression()"
      ]
     },
     "execution_count": 5,
     "metadata": {},
     "output_type": "execute_result"
    }
   ],
   "source": [
    "# 5. Train model\n",
    "model = LinearRegression()\n",
    "model.fit(X_poly, y)"
   ]
  },
  {
   "cell_type": "code",
   "execution_count": 35,
   "id": "e8607884-da81-4535-8d30-9cef35a1411e",
   "metadata": {},
   "outputs": [],
   "source": [
    "# 6. Simulate demand for a range of price values\n",
    "price_range = np.linspace(df['price'].min(), df['price'].max(), 200)\n",
    "avg_cost = df['cost_per_unit'].mean()\n",
    "avg_capacity = df['production_capacity'].mean()\n",
    "\n",
    "sim_df = pd.DataFrame({\n",
    "    'price': price_range,\n",
    "    'cost_per_unit': avg_cost,\n",
    "    'production_capacity': avg_capacity\n",
    "})"
   ]
  },
  {
   "cell_type": "code",
   "execution_count": 36,
   "id": "8a8e1cec-1863-4da5-9d4c-6aaf80092885",
   "metadata": {},
   "outputs": [],
   "source": [
    "# 7. Transform simulation data and predict demand\n",
    "sim_poly = poly.transform(sim_df)\n",
    "predicted_demand = model.predict(sim_poly)"
   ]
  },
  {
   "cell_type": "code",
   "execution_count": 38,
   "id": "27ae757d-1b7f-44fa-a55f-29e66c8eb96b",
   "metadata": {},
   "outputs": [],
   "source": [
    "# 8. Calculate revenue and profit\n",
    "revenue = price_range * predicted_demand\n",
    "profit = (price_range - avg_cost) * predicted_demand\n",
    "\n",
    "# 9. Find optimal price points\n",
    "best_revenue_idx = np.argmax(revenue)\n",
    "best_profit_idx = np.argmax(profit)"
   ]
  },
  {
   "cell_type": "code",
   "execution_count": 39,
   "id": "74ad6886-1188-4f6c-bf85-b20045f3074a",
   "metadata": {},
   "outputs": [
    {
     "name": "stdout",
     "output_type": "stream",
     "text": [
      "🔹 Best Price for Max Revenue: $499.86\n",
      "   ➤ Maximum Revenue: $21,814.65\n",
      "\n",
      "🔹 Best Price for Max Profit:  $499.86\n",
      "   ➤ Maximum Profit: $15,201.07\n"
     ]
    }
   ],
   "source": [
    "# 10. Print results\n",
    "print(f\"🔹 Best Price for Max Revenue: ${price_range[best_revenue_idx]:.2f}\")\n",
    "print(f\"   ➤ Maximum Revenue: ${revenue[best_revenue_idx]:,.2f}\")\n",
    "print(f\"\\n🔹 Best Price for Max Profit:  ${price_range[best_profit_idx]:.2f}\")\n",
    "print(f\"   ➤ Maximum Profit: ${profit[best_profit_idx]:,.2f}\")"
   ]
  },
  {
   "cell_type": "code",
   "execution_count": 40,
   "id": "7106c12d-2a58-455e-a126-c563817925f3",
   "metadata": {},
   "outputs": [
    {
     "data": {
      "image/png": "[encoded data removed]",
      "text/plain": [
       "<Figure size 800x500 with 1 Axes>"
      ]
     },
     "metadata": {},
     "output_type": "display_data"
    }
   ],
   "source": [
    "# 11. Plot\n",
    "plt.figure(figsize=(8, 5))\n",
    "plt.plot(price_range, revenue, label=\"Revenue\", color='blue')\n",
    "plt.plot(price_range, profit, label=\"Profit\", color='green')\n",
    "plt.axvline(price_range[best_revenue_idx], linestyle=\"--\", color='blue', label=\"Max Revenue Price\")\n",
    "plt.axvline(price_range[best_profit_idx], linestyle=\"--\", color='green', label=\"Max Profit Price\")\n",
    "plt.xlabel(\"Price\")\n",
    "plt.ylabel(\"Value\")\n",
    "plt.title(\"Revenue and Profit vs Price (with Multiple Features)\")\n",
    "plt.legend()\n",
    "plt.grid(True)\n",
    "plt.tight_layout()\n",
    "plt.show()"
   ]
  },
  {
   "cell_type": "code",
   "execution_count": null,
   "id": "673ac1bd-6408-49d1-bc63-1f6d95d4c050",
   "metadata": {},
   "outputs": [],
   "source": []
  }
 ],
 "metadata": {
  "kernelspec": {
   "display_name": "Python 3 (ipykernel)",
   "language": "python",
   "name": "python3"
  },
  "language_info": {
   "codemirror_mode": {
    "name": "ipython",
    "version": 3
   },
   "file_extension": ".py",
   "mimetype": "text/x-python",
   "name": "python",
   "nbconvert_exporter": "python",
   "pygments_lexer": "ipython3",
   "version": "3.9.7"
  }
 },
 "nbformat": 4,
 "nbformat_minor": 5
}
